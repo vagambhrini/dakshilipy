{
 "cells": [
  {
   "cell_type": "code",
   "execution_count": null,
   "id": "6c90d991",
   "metadata": {},
   "outputs": [],
   "source": [
    "# only run this line if on Google Colab or fresh local machine without ideas library\n",
    "!python -m pip install ideas\n",
    "\n",
    "# uncomment following line if you do not have dakshilipy & import in third cell gives error\n",
    "#!git clone https://github.com/vagambhrini/dakshilipy.git"
   ]
  },
  {
   "cell_type": "code",
   "execution_count": 1,
   "id": "d78e58d9",
   "metadata": {},
   "outputs": [],
   "source": [
    "import sys\n",
    "sys.path.append(\"./dakshilipy/लिपी\")\n",
    "sys.path.append(\"../../लिपी\")"
   ]
  },
  {
   "cell_type": "code",
   "execution_count": 2,
   "id": "3b2417d7",
   "metadata": {},
   "outputs": [],
   "source": [
    "from दाक्षिलिपीहिन्दी import *\n",
    "from गणितसहायकसर्गाणिहिन्दी import *"
   ]
  },
  {
   "cell_type": "code",
   "execution_count": 21,
   "id": "1f4ae130",
   "metadata": {},
   "outputs": [],
   "source": [
    "ग = '§'\n",
    "ल = '|'\n",
    "गल = [[ग], [ल]]"
   ]
  },
  {
   "cell_type": "markdown",
   "id": "b3c656be",
   "metadata": {},
   "source": [
    "__प्रथम प्रत्यय बहुत ही__"
   ]
  },
  {
   "cell_type": "code",
   "execution_count": 19,
   "id": "ce0be293",
   "metadata": {},
   "outputs": [],
   "source": [
    "सर्ग पिंगलप्रस्तार ( स्थान , पूर्वफल = [[ग], [ल]]):\n",
    "    यदि स्थान < 1: सर्गफल अज्ञात\n",
    "    यदि स्थान == 1: सर्गफल पूर्वफल\n",
    "    फलपात्र = []\n",
    "    फलपात्र += अध्यास (समीकरण पंक्ति: पंक्ति + [ग], पूर्वफल)\n",
    "    फलपात्र += अध्यास (समीकरण पंक्ति: पंक्ति + [ल], पूर्वफल)\n",
    "    सर्गफल पिंगलप्रस्तार (स्थान-1, फलपात्र)"
   ]
  },
  {
   "cell_type": "code",
   "execution_count": 20,
   "id": "d7788c27",
   "metadata": {},
   "outputs": [
    {
     "name": "stdout",
     "output_type": "stream",
     "text": [
      "   1  2  3\n",
      "1  §  §  §\n",
      "2  |  §  §\n",
      "3  §  |  §\n",
      "4  |  |  §\n",
      "5  §  §  |\n",
      "6  |  §  |\n",
      "7  §  |  |\n",
      "8  |  |  |\n"
     ]
    }
   ],
   "source": [
    "दर्शयसारिणी( पिंगलप्रस्तार(3) )"
   ]
  },
  {
   "cell_type": "code",
   "execution_count": 23,
   "id": "65dfec9c",
   "metadata": {},
   "outputs": [],
   "source": [
    "ग = '0'\n",
    "ल = '1'\n",
    "गल = [[ग], [ल]]"
   ]
  },
  {
   "cell_type": "code",
   "execution_count": 24,
   "id": "17f2e8e8",
   "metadata": {},
   "outputs": [
    {
     "data": {
      "text/plain": [
       "[['§'], ['|']]"
      ]
     },
     "execution_count": 24,
     "metadata": {},
     "output_type": "execute_result"
    }
   ],
   "source": []
  },
  {
   "cell_type": "code",
   "execution_count": 10,
   "id": "20b53ca6",
   "metadata": {},
   "outputs": [
    {
     "name": "stdout",
     "output_type": "stream",
     "text": [
      "    1  2  3  4\n",
      "1   §  §  §  0\n",
      "2   §  §  §  1\n",
      "3   §  §  |  0\n",
      "4   §  §  |  1\n",
      "5   §  |  §  0\n",
      "6   §  |  §  1\n",
      "7   §  |  |  0\n",
      "8   §  |  |  1\n",
      "9   |  §  §  0\n",
      "10  |  §  §  1\n",
      "11  |  §  |  0\n",
      "12  |  §  |  1\n",
      "13  |  |  §  0\n",
      "14  |  |  §  1\n",
      "15  |  |  |  0\n",
      "16  |  |  |  1\n"
     ]
    }
   ],
   "source": [
    "दर्शयसारिणी(श्रेणी (अध्यास (समीकरण पंक्ति: श्रेणी(अधोमुख(पंक्ति)), पिंगलप्रस्तार(4))))"
   ]
  },
  {
   "cell_type": "code",
   "execution_count": null,
   "id": "fdade05f",
   "metadata": {},
   "outputs": [],
   "source": []
  },
  {
   "cell_type": "markdown",
   "id": "d649032a",
   "metadata": {},
   "source": [
    "#### पर्याय विधान\n",
    "\n",
    "प्रस्तार के अन्य विधान भरत केदार एवं हेमचन्द्र द्वारा:"
   ]
  },
  {
   "cell_type": "code",
   "execution_count": null,
   "id": "0ba3b2f6",
   "metadata": {},
   "outputs": [],
   "source": [
    "सर्ग प्रस्तारप्रष्ठपंक्ती(दत्तपंक्ती):\n",
    "    गास्थान = पदस्थान(दत्तपंक्ती, ग)\n",
    "    यदि गास्थान == अज्ञात: सर्गफल अज्ञात\n",
    "    फलपंक्ती = [ग]*(गास्थान) + [ल] + दत्तपंक्ती[गास्थान+1:]\n",
    "    सर्गफल फलपंक्ती\n",
    "\n",
    "सर्ग भरतकेदारप्रस्तार(स्थान):\n",
    "    नवपंक्ती = [ग] * स्थान\n",
    "    फल = []\n",
    "    यदा नवपंक्ती != अज्ञात:\n",
    "        फल += [नवपंक्ती]\n",
    "        नवपंक्ती = प्रस्तारप्रष्ठपंक्ती(नवपंक्ती)\n",
    "    सर्गफल फल"
   ]
  },
  {
   "cell_type": "code",
   "execution_count": null,
   "id": "84461bbf",
   "metadata": {},
   "outputs": [],
   "source": [
    "भरतकेदारप्रस्तार(3)"
   ]
  },
  {
   "cell_type": "code",
   "execution_count": null,
   "id": "c1b8737d",
   "metadata": {},
   "outputs": [],
   "source": [
    "# सम्भवतः sorting\n",
    "#सर्ग हेमचन्द्रप्रस्तार:\n",
    "    "
   ]
  },
  {
   "cell_type": "code",
   "execution_count": null,
   "id": "2956c835",
   "metadata": {},
   "outputs": [],
   "source": []
  },
  {
   "cell_type": "markdown",
   "id": "681e018f",
   "metadata": {},
   "source": [
    "-------\n",
    "\n",
    "सहायक सर्गाणी :\n",
    "---------------\n"
   ]
  },
  {
   "cell_type": "markdown",
   "id": "32a6bda8",
   "metadata": {},
   "source": [
    "#### TODO:\n",
    "\n",
    "- sorting by hemchandra prastar\n",
    "- meru prastar and cellular automata"
   ]
  },
  {
   "cell_type": "markdown",
   "id": "19602a0b",
   "metadata": {},
   "source": [
    "विचार\n",
    "------\n",
    "\n",
    "\n",
    "#### व्रहत रूप\n",
    "\n",
    "- time evolution\n",
    "- Finite difference eq.\n",
    "- एक से अनेक\n",
    "  - क्या स्रजन का उपादान कारण एक है। निमित्त कारण।\n",
    "  - **Krauss' theory of everything from nothing.**\n",
    "- Cellular automata\n",
    "  - **Oldish Theory of everything**\n",
    "- Kernels in image processing\n",
    "  - 2d, 3d, 4d and beyond\n",
    "- Generalization to graph\n",
    "  - Physics as a subset with certain rules for connections.\n",
    "- Thus, समष्टी में व्षटी, \n",
    "  - सूक्ष्म सोच से ब्रह्म का आह्वाहन।\n",
    "  - क्या विचार अपि एक से अनेक हैं।\n",
    "- problem of initial condition\n",
    "- land of thoughts and material, which is real\n",
    "- does universe also keep expanding like Meru or does it starts shrinking again.\n",
    "  - लय एवं विलय\n",
    "  - परिर्वतन, नूतन, चक्र\n",
    "\n",
    "#### इतिहास\n",
    "\n",
    "- क्यों यह शास्त्र आम जनमानस में प्रचलित नहीं है।\n",
    "  - \n",
    "  \n",
    "अन्य सहायक निबन्ध व कार्य\n",
    "--------\n",
    "\n",
    "-  https://doi.org/10.1007/s11948-017-9890-6"
   ]
  },
  {
   "cell_type": "code",
   "execution_count": null,
   "id": "f9114dcc",
   "metadata": {},
   "outputs": [],
   "source": []
  }
 ],
 "metadata": {
  "kernelspec": {
   "display_name": "Python 3 (ipykernel)",
   "language": "python",
   "name": "python3"
  },
  "language_info": {
   "codemirror_mode": {
    "name": "ipython",
    "version": 3
   },
   "file_extension": ".py",
   "mimetype": "text/x-python",
   "name": "python",
   "nbconvert_exporter": "python",
   "pygments_lexer": "ipython3",
   "version": "3.10.4"
  }
 },
 "nbformat": 4,
 "nbformat_minor": 5
}
